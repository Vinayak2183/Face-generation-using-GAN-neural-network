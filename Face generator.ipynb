{
 "cells": [
  {
   "cell_type": "markdown",
   "id": "ed8a9c42-9400-4620-80b7-e6864d0d0279",
   "metadata": {},
   "source": [
    "## Import Modules"
   ]
  },
  {
   "cell_type": "code",
   "execution_count": null,
   "id": "b601b3e5-4b40-4da9-88d6-cb18891c63a7",
   "metadata": {},
   "outputs": [],
   "source": [
    "import os\n",
    "import numpy as np\n",
    "import matplotlib.pyplot as plt\n",
    "import warnings\n",
    "from tqdm.notebook import tqdm\n",
    "import tensorflow as tf\n",
    "from tensorflow import keras\n",
    "from tensorflow.keras.preprocessing.image import load_img, array_to_img\n",
    "from tensorflow.keras.models import Sequential, Model\n",
    "from tensorflow.keras import layers\n",
    "from tensorflow.keras.optimizers import Adam\n",
    "from tensorflow.keras.losses import BinaryCrossentropy\n",
    "\n",
    "warnings.filterwarnings('ignore')"
   ]
  },
  {
   "cell_type": "markdown",
   "id": "abe26072-c87f-4f0f-a62b-0fa279ce0a58",
   "metadata": {},
   "source": [
    "## Load the files"
   ]
  },
  {
   "cell_type": "code",
   "execution_count": null,
   "id": "af9c5459-61a3-44d1-9d7b-c2a3756cff91",
   "metadata": {},
   "outputs": [],
   "source": [
    "BASE_DIR = '/kaggle/input/anime-faces/data/'"
   ]
  },
  {
   "cell_type": "code",
   "execution_count": null,
   "id": "44690ca2-c915-4bac-b707-e75f7e97bfc4",
   "metadata": {},
   "outputs": [],
   "source": [
    "# load complete image paths to the list\n",
    "image_paths = []\n",
    "for image_name in os.listdir(BASE_DIR):\n",
    "    image_path = os.path.join(BASE_DIR, image_name)\n",
    "    image_paths.append(image_path)"
   ]
  },
  {
   "cell_type": "code",
   "execution_count": null,
   "id": "302c1b34-92ec-45cd-943e-59a5300212d3",
   "metadata": {},
   "outputs": [],
   "source": [
    "image_paths[:5]"
   ]
  },
  {
   "cell_type": "code",
   "execution_count": null,
   "id": "c52ebaea-8f8f-4a0a-9b58-f0d231fba7e1",
   "metadata": {},
   "outputs": [],
   "source": [
    "# remove unnecessary file\n",
    "image_paths.remove('/kaggle/input/anime-faces/data/data')"
   ]
  },
  {
   "cell_type": "code",
   "execution_count": null,
   "id": "a4035891-04a9-4ea2-b58e-d39dde67f5fd",
   "metadata": {},
   "outputs": [],
   "source": [
    "len(image_paths)"
   ]
  },
  {
   "cell_type": "markdown",
   "id": "9dc2bb66-0a67-479d-89b9-2521b8156f25",
   "metadata": {},
   "source": [
    "## Visualize the Image Dataset"
   ]
  },
  {
   "cell_type": "code",
   "execution_count": null,
   "id": "3dbd3d7b-ddfc-490e-85d4-c71bb3a3c103",
   "metadata": {},
   "outputs": [],
   "source": [
    "# to display grid of images (7x7)\n",
    "plt.figure(figsize=(20, 20))\n",
    "temp_images = image_paths[:49]\n",
    "index = 1\n",
    "\n",
    "for image_path in temp_images:\n",
    "    plt.subplot(7, 7, index)\n",
    "    # load the image\n",
    "    img = load_img(image_path)\n",
    "    # convert to numpy array\n",
    "    img = np.array(img)\n",
    "    # show the image\n",
    "    plt.imshow(img)\n",
    "    plt.axis('off')\n",
    "    # increment the index for next image\n",
    "    index += 1"
   ]
  },
  {
   "cell_type": "markdown",
   "id": "b3714b96-b81b-415c-b02a-1556d7e42d2f",
   "metadata": {},
   "source": [
    "## Preprocess Images"
   ]
  },
  {
   "cell_type": "code",
   "execution_count": null,
   "id": "0410eb30-f99e-41aa-b19b-58003b3feacc",
   "metadata": {},
   "outputs": [],
   "source": [
    "# load the image and convert to numpy array\n",
    "train_images = [np.array(load_img(path)) for path in tqdm(image_paths)]\n",
    "train_images = np.array(train_images)"
   ]
  },
  {
   "cell_type": "code",
   "execution_count": null,
   "id": "46d8bc2d-37bc-4080-af86-b99bc53e0db4",
   "metadata": {},
   "outputs": [],
   "source": [
    "train_images[0].shape"
   ]
  },
  {
   "cell_type": "code",
   "execution_count": null,
   "id": "3ad07b4d-752d-40c2-a03e-e7b9619abfd6",
   "metadata": {},
   "outputs": [],
   "source": [
    "# reshape the array\n",
    "train_images = train_images.reshape(train_images.shape[0], 64, 64, 3).astype('float32')"
   ]
  },
  {
   "cell_type": "code",
   "execution_count": null,
   "id": "dba37f31-8e87-4b68-881c-b5963e25d56a",
   "metadata": {},
   "outputs": [],
   "source": [
    "# normalize the images\n",
    "train_images = (train_images - 127.5) / 127.5"
   ]
  },
  {
   "cell_type": "code",
   "execution_count": null,
   "id": "883d18f3-b2ec-4030-bf7c-6e5e9306640d",
   "metadata": {},
   "outputs": [],
   "source": [
    "train_images[0]"
   ]
  },
  {
   "cell_type": "markdown",
   "id": "f6764be3-4b4f-4745-999e-cd7caaa3973b",
   "metadata": {},
   "source": [
    "# Create Generator & Discriminator Models"
   ]
  },
  {
   "cell_type": "code",
   "execution_count": null,
   "id": "afb03e50-5146-4b73-9762-bcf0d87f262e",
   "metadata": {},
   "outputs": [],
   "source": [
    "# latent dimension for random noise\n",
    "LATENT_DIM = 100\n",
    "# weight initializer\n",
    "WEIGHT_INIT = keras.initializers.RandomNormal(mean=0.0, stddev=0.02)\n",
    "# no. of channels of the image\n",
    "CHANNELS = 3 # for gray scale, keep it as 1"
   ]
  },
  {
   "cell_type": "markdown",
   "id": "8c522eb2-4db8-48a6-a243-28916ef72fd3",
   "metadata": {},
   "source": [
    "### Generator Model"
   ]
  },
  {
   "cell_type": "code",
   "execution_count": null,
   "id": "c65550c3-a037-40b4-b20b-ee2c2ae34939",
   "metadata": {},
   "outputs": [],
   "source": [
    "model = Sequential(name='generator')\n",
    "\n",
    "# 1d random noise\n",
    "model.add(layers.Dense(8 * 8 * 512, input_dim=LATENT_DIM))\n",
    "# model.add(layers.BatchNormalization())\n",
    "model.add(layers.ReLU())\n",
    "\n",
    "# convert 1d to 3d\n",
    "model.add(layers.Reshape((8, 8, 512)))\n",
    "\n",
    "# upsample to 16x16\n",
    "model.add(layers.Conv2DTranspose(256, (4, 4), strides=(2, 2), padding='same', kernel_initializer=WEIGHT_INIT))\n",
    "# model.add(layers.BatchNormalization())\n",
    "model.add(layers.ReLU())\n",
    "\n",
    "# upsample to 32x32\n",
    "model.add(layers.Conv2DTranspose(128, (4, 4), strides=(2, 2), padding='same', kernel_initializer=WEIGHT_INIT))\n",
    "# model.add(layers.BatchNormalization())\n",
    "model.add(layers.ReLU())\n",
    "\n",
    "# upsample to 64x64\n",
    "model.add(layers.Conv2DTranspose(64, (4, 4), strides=(2, 2), padding='same', kernel_initializer=WEIGHT_INIT))\n",
    "# model.add(layers.BatchNormalization())\n",
    "model.add(layers.ReLU())\n",
    "\n",
    "model.add(layers.Conv2D(CHANNELS, (4, 4), padding='same', activation='tanh'))\n",
    "\n",
    "generator = model\n",
    "generator.summary()"
   ]
  },
  {
   "cell_type": "markdown",
   "id": "01b5a1b3-7e15-4fb5-9960-4ffdadb4c48b",
   "metadata": {},
   "source": [
    "## Discriminator Model"
   ]
  },
  {
   "cell_type": "code",
   "execution_count": null,
   "id": "6decf3dc-20c5-4efd-a2d1-b83939056420",
   "metadata": {},
   "outputs": [],
   "source": [
    "model = Sequential(name='discriminator')\n",
    "input_shape = (64, 64, 3)\n",
    "alpha = 0.2\n",
    "\n",
    "# create conv layers\n",
    "model.add(layers.Conv2D(64, (4, 4), strides=(2, 2), padding='same', input_shape=input_shape))\n",
    "model.add(layers.BatchNormalization())\n",
    "model.add(layers.LeakyReLU(alpha=alpha))\n",
    "\n",
    "model.add(layers.Conv2D(128, (4, 4), strides=(2, 2), padding='same', input_shape=input_shape))\n",
    "model.add(layers.BatchNormalization())\n",
    "model.add(layers.LeakyReLU(alpha=alpha))\n",
    "\n",
    "model.add(layers.Conv2D(128, (4, 4), strides=(2, 2), padding='same', input_shape=input_shape))\n",
    "model.add(layers.BatchNormalization())\n",
    "model.add(layers.LeakyReLU(alpha=alpha))\n",
    "\n",
    "model.add(layers.Flatten())\n",
    "model.add(layers.Dropout(0.3))\n",
    "\n",
    "# output class\n",
    "model.add(layers.Dense(1, activation='sigmoid'))\n",
    "\n",
    "discriminator = model\n",
    "discriminator.summary()"
   ]
  },
  {
   "cell_type": "markdown",
   "id": "3e13a47f-c278-4a3b-b13f-9f4076cce2c6",
   "metadata": {},
   "source": [
    "## Create DCGAN"
   ]
  },
  {
   "cell_type": "code",
   "execution_count": null,
   "id": "d8eabff5-582b-46b8-9b7f-4bfb851ea774",
   "metadata": {},
   "outputs": [],
   "source": [
    "class DCGAN(keras.Model):\n",
    "    def __init__(self, generator, discriminator, latent_dim):\n",
    "        super().__init__()\n",
    "        self.generator = generator\n",
    "        self.discriminator = discriminator\n",
    "        self.latent_dim = latent_dim\n",
    "        self.g_loss_metric = keras.metrics.Mean(name='g_loss')\n",
    "        self.d_loss_metric = keras.metrics.Mean(name='d_loss')\n",
    "        \n",
    "    @property\n",
    "    def metrics(self):\n",
    "        return [self.g_loss_metric, self.d_loss_metric]\n",
    "    \n",
    "    def compile(self, g_optimizer, d_optimizer, loss_fn):\n",
    "        super(DCGAN, self).compile()\n",
    "        self.g_optimizer = g_optimizer\n",
    "        self.d_optimizer = d_optimizer\n",
    "        self.loss_fn = loss_fn\n",
    "        \n",
    "    def train_step(self, real_images):\n",
    "        # get batch size from the data\n",
    "        batch_size = tf.shape(real_images)[0]\n",
    "        # generate random noise\n",
    "        random_noise = tf.random.normal(shape=(batch_size, self.latent_dim))\n",
    "        \n",
    "        # train the discriminator with real (1) and fake (0) images\n",
    "        with tf.GradientTape() as tape:\n",
    "            # compute loss on real images\n",
    "            pred_real = self.discriminator(real_images, training=True)\n",
    "            # generate real image labels\n",
    "            real_labels = tf.ones((batch_size, 1))\n",
    "            # label smoothing\n",
    "            real_labels += 0.05 * tf.random.uniform(tf.shape(real_labels))\n",
    "            d_loss_real = self.loss_fn(real_labels, pred_real)\n",
    "            \n",
    "            # compute loss on fake images\n",
    "            fake_images = self.generator(random_noise)\n",
    "            pred_fake = self.discriminator(fake_images, training=True)\n",
    "            # generate fake labels\n",
    "            fake_labels = tf.zeros((batch_size, 1))\n",
    "            d_loss_fake = self.loss_fn(fake_labels, pred_fake)\n",
    "            \n",
    "            # total discriminator loss\n",
    "            d_loss = (d_loss_real + d_loss_fake) / 2\n",
    "            \n",
    "        # compute discriminator gradients\n",
    "        gradients = tape.gradient(d_loss, self.discriminator.trainable_variables)\n",
    "        # update the gradients\n",
    "        self.d_optimizer.apply_gradients(zip(gradients, self.discriminator.trainable_variables))\n",
    "        \n",
    "        \n",
    "        # train the generator model\n",
    "        labels = tf.ones((batch_size, 1))\n",
    "        # generator want discriminator to think that fake images are real\n",
    "        with tf.GradientTape() as tape:\n",
    "            # generate fake images from generator\n",
    "            fake_images = self.generator(random_noise, training=True)\n",
    "            # classify images as real or fake\n",
    "            pred_fake = self.discriminator(fake_images, training=True)\n",
    "            # compute loss\n",
    "            g_loss = self.loss_fn(labels, pred_fake)\n",
    "            \n",
    "        # compute gradients\n",
    "        gradients = tape.gradient(g_loss, self.generator.trainable_variables)\n",
    "        # update the gradients\n",
    "        self.g_optimizer.apply_gradients(zip(gradients, self.generator.trainable_variables))\n",
    "        \n",
    "        # update states for both models\n",
    "        self.d_loss_metric.update_state(d_loss)\n",
    "        self.g_loss_metric.update_state(g_loss)\n",
    "        \n",
    "        return {'d_loss': self.d_loss_metric.result(), 'g_loss': self.g_loss_metric.result()}"
   ]
  },
  {
   "cell_type": "code",
   "execution_count": null,
   "id": "9cd27e91-e473-481f-bf7a-cdb154666d0f",
   "metadata": {},
   "outputs": [],
   "source": [
    "class DCGANMonitor(keras.callbacks.Callback):\n",
    "    def __init__(self, num_imgs=25, latent_dim=100):\n",
    "        self.num_imgs = num_imgs\n",
    "        self.latent_dim = latent_dim\n",
    "        # create random noise for generating images\n",
    "        self.noise = tf.random.normal([25, latent_dim])\n",
    "\n",
    "    def on_epoch_end(self, epoch, logs=None):\n",
    "        # generate the image from noise\n",
    "        g_img = self.model.generator(self.noise)\n",
    "        # denormalize the image\n",
    "        g_img = (g_img * 127.5) + 127.5\n",
    "        g_img.numpy()\n",
    "        \n",
    "        fig = plt.figure(figsize=(8, 8))\n",
    "        for i in range(self.num_imgs):\n",
    "            plt.subplot(5, 5, i+1)\n",
    "            img = array_to_img(g_img[i])\n",
    "            plt.imshow(img)\n",
    "            plt.axis('off')\n",
    "        # plt.savefig('epoch_{:03d}.png'.format(epoch))\n",
    "        plt.show()\n",
    "        \n",
    "    def on_train_end(self, logs=None):\n",
    "        self.model.generator.save('generator.h5')"
   ]
  },
  {
   "cell_type": "code",
   "execution_count": null,
   "id": "6d27258a-8c97-4bf0-9159-9bca0d804fd8",
   "metadata": {},
   "outputs": [],
   "source": [
    "dcgan = DCGAN(generator=generator, discriminator=discriminator, latent_dim=LATENT_DIM)"
   ]
  },
  {
   "cell_type": "code",
   "execution_count": null,
   "id": "23016e40-2669-4ec1-83ed-d502883e76eb",
   "metadata": {},
   "outputs": [],
   "source": [
    "D_LR = 0.0001 \n",
    "G_LR = 0.0003\n",
    "dcgan.compile(g_optimizer=Adam(learning_rate=G_LR, beta_1=0.5), d_optimizer=Adam(learning_rate=D_LR, beta_1=0.5), loss_fn=BinaryCrossentropy())"
   ]
  },
  {
   "cell_type": "code",
   "execution_count": null,
   "id": "7d677d09-30c7-4223-87ff-b7012141ca2e",
   "metadata": {},
   "outputs": [],
   "source": [
    "N_EPOCHS = 50\n",
    "dcgan.fit(train_images, epochs=N_EPOCHS, callbacks=[DCGANMonitor()])"
   ]
  },
  {
   "cell_type": "markdown",
   "id": "85b5945c-9f3c-4942-a979-003b744d13c1",
   "metadata": {},
   "source": [
    "## Generate New Anime Image"
   ]
  },
  {
   "cell_type": "code",
   "execution_count": null,
   "id": "f75cb553-99f3-489e-9788-be1a6f90a519",
   "metadata": {},
   "outputs": [],
   "source": [
    "noise = tf.random.normal([1, 100])\n",
    "fig = plt.figure(figsize=(3, 3))\n",
    "# generate the image from noise\n",
    "g_img = dcgan.generator(noise)\n",
    "# denormalize the image\n",
    "g_img = (g_img * 127.5) + 127.5\n",
    "g_img.numpy()\n",
    "img = array_to_img(g_img[0])\n",
    "plt.imshow(img)\n",
    "plt.axis('off')\n",
    "# plt.savefig('epoch_{:03d}.png'.format(epoch))\n",
    "plt.show()"
   ]
  }
 ],
 "metadata": {
  "kernelspec": {
   "display_name": "Python 3 (ipykernel)",
   "language": "python",
   "name": "python3"
  },
  "language_info": {
   "codemirror_mode": {
    "name": "ipython",
    "version": 3
   },
   "file_extension": ".py",
   "mimetype": "text/x-python",
   "name": "python",
   "nbconvert_exporter": "python",
   "pygments_lexer": "ipython3",
   "version": "3.11.7"
  }
 },
 "nbformat": 4,
 "nbformat_minor": 5
}
